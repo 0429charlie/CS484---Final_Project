{
 "cells": [
  {
   "cell_type": "markdown",
   "metadata": {
    "colab_type": "text",
    "id": "Jq-N-nmvlZ8r"
   },
   "source": [
    "# Team Convoluted Fishnets\n",
    "\n",
    "Boshen Cui (20613736\n",
    "\n",
    "Eddie Wang (20631370)\n",
    "\n",
    "Charlie Wu (20550993)\n",
    "\n",
    "### Project 8 - Multi-source domain adaptation for classification"
   ]
  },
  {
   "cell_type": "markdown",
   "metadata": {
    "colab_type": "text",
    "id": "twwuq3Hopa3p"
   },
   "source": [
    "# 1. Abstract \n",
    "\n",
    "This notebook presents an overview of our simple yet effective implementation for the multi-domain classification problem. We first train separate, specialized CNN classifiers for each domain that predicts accurately which class a respective domain image belongs to. Then we train a Domain CNN classier that classifies which domain an image belongs to. Finally we a weighted average combining all the predictions from the separate, specialized CNNs and the Domain CNN to label a new image. This method is shown to improve upon a baseline naive CNN multi-domain classification by 9%. Suggestions for further improvement for the model will also be mentioned.\n",
    "\n",
    "## 1.1 Contributions\n",
    "\n",
    "Boshen Cui - responsible for writing the code and some of the report.\n",
    "\n",
    "Charlie Wu - responsible for writing the code and some of the report.\n",
    "\n",
    "Eddie Wang - responsible for cleaning the notebook and writing some of the report."
   ]
  },
  {
   "cell_type": "markdown",
   "metadata": {
    "colab_type": "text",
    "id": "g4SGjTz7psdB"
   },
   "source": [
    "# 2. Introduction\n",
    "\n",
    "In this report we refer to the training domains as Sketch, Real, Painting, Quickdraw, and Infograph (SRPQI) and the unseen testing domain as Clipart.\n"
   ]
  },
  {
   "cell_type": "markdown",
   "metadata": {
    "colab_type": "text",
    "id": "DC2wZ3l7BqNJ"
   },
   "source": [
    "## 2.1 Problem Statement\n",
    "Multi-source domain adaptation deals with the problem of *Dataset Shift*. Data shift is a well known problem in machine learning in which the joint distribution of inputs and outputs differs between the training and the testing datasets. Within computer vision, this is a problem for classification models because prediction accuracy drops significantly when the model encounters an image from a domain that it has never seen before. In the VisDa dataset challenge, we are given the task of predicting which class a Clipart image belongs to but the given training data are only for images in the domains of Sketch, Painting, Real photographs, Quickdraw, and Infograph. \n"
   ]
  },
  {
   "cell_type": "markdown",
   "metadata": {
    "colab_type": "text",
    "id": "uJuU1f7XBvpy"
   },
   "source": [
    "\n",
    "## 2.2 Existing Work\n",
    "Existing models that work well use the technique of fusing multiple CNNs. Firstly, a network is built that performs pixel-level adaptation between a source domain and target domain. The results are then used as an input to another model that runs the input through multiple networks specialized in different domains and combined at the end with a few fully connected layers. While there are many more approaches to address the dataset shift problem, they are mainly categorized into three types: \n",
    "\n",
    "1. sophisticated pre-processing of dataset such as data augmentation that convert data into one domain\n",
    "2. training multiple networks with different architectures on multiple domains and adding some extra layer to combine the result\n",
    "3. post-processing of data such as matching the distribution of the resulting set of decisions made by various networks specialized in particular domain. \n",
    "\n",
    "Some models even combine these three aspects."
   ]
  },
  {
   "cell_type": "markdown",
   "metadata": {
    "colab_type": "text",
    "id": "i-79qPWxB0rq"
   },
   "source": [
    "\n",
    "## 2.3 Motivations to our Approach\n",
    "Our approach is simpler and effective. Due to high computational limitations, we found that using multiple network architectures for each domain and integrating everything in couple last layers was too complicated. However, using multiple networks each specialize in each image domain seems to intuitively be in the right direction. Thus we use a same network architecture to train on different domains. Furthermore, the results of these networks specialized in one particular domain can be combined in a simpler way - using a weighted average which is decided by the similarity of the given image domain and the similarity of the targeted image domain. Thus, we use one more CNN that decides how similar a given image domain is from the target image domain. "
   ]
  },
  {
   "cell_type": "markdown",
   "metadata": {
    "colab_type": "text",
    "id": "XB7p23HrB2mm"
   },
   "source": [
    "\n",
    "## 2.4 Technicalities to our Approach\n",
    "Due to computational limitations, we used a subset of the dataset defined by using training and testing images on 10 classes across all the different domains. We train 5 different CNNs (corresponding to the SRPQI domains) using a pretrained ResNet34 architecture to predict which class an image belongs to in their respective domains. We then train a pretrained ResNet34 CNN as a Domain classifier (using only the SRPQI images) which decides which domain a given image is close to. The Clipart domain is completely unseen during the training phase. Lastly, the class of a Clipart image is predicted using a weighted average of the specialized CNNs and the Domain CNN classifiers.\n"
   ]
  },
  {
   "cell_type": "markdown",
   "metadata": {
    "colab_type": "text",
    "id": "kgbAksqqB3Or"
   },
   "source": [
    "\n",
    "## 2.5 Outline of the Notebook\n",
    "First we will implement a naive ResNet34 classifier that is trained on all the training domain (SRPQI) images (restricted to 10 classes) and tested on unseen Clipart images, which serves as a baseline model to compare our results with.\n",
    "Next we train the 5 specialized ResNet34 CNNs on each domain. To prevent the notebook from becoming too messy, we will only show the process and metrics of training a single specialized CNN. Training for the rest of the CNNs can be found in a separate notebook (domain_training.ipynb) but we have pretrained them and will simply load the rest of the models. Next we train the Domain CNN classifier. Finally we show the steps for predicting on unseen Clipart images. We will then summarize our conclusions and mention strengths/weaknesses and next steps. "
   ]
  },
  {
   "cell_type": "markdown",
   "metadata": {
    "colab_type": "text",
    "id": "x7l60IJk0jys"
   },
   "source": [
    "### Downloading Datasets\n",
    "\n",
    "This will take a very long time depending on your internet speed. On Google Colab it's around 20-30 mins."
   ]
  },
  {
   "cell_type": "code",
   "execution_count": 0,
   "metadata": {
    "colab": {
     "base_uri": "https://localhost:8080/",
     "height": 1000
    },
    "colab_type": "code",
    "id": "B7t52moN0083",
    "outputId": "dc05c456-8d1e-4f05-f461-30bb7a8c5fc1"
   },
   "outputs": [
    {
     "name": "stdout",
     "output_type": "stream",
     "text": [
      "--2019-12-17 04:00:24--  http://csr.bu.edu/ftp/visda/2019/multi-source/groundtruth/clipart.zip\n",
      "Resolving csr.bu.edu (csr.bu.edu)... 128.197.10.202\n",
      "Connecting to csr.bu.edu (csr.bu.edu)|128.197.10.202|:80... connected.\n",
      "HTTP request sent, awaiting response... 200 OK\n",
      "Length: 1270909081 (1.2G) [application/zip]\n",
      "Saving to: ‘clipart.zip’\n",
      "\n",
      "clipart.zip         100%[===================>]   1.18G  35.1MB/s    in 35s     \n",
      "\n",
      "2019-12-17 04:01:00 (34.3 MB/s) - ‘clipart.zip’ saved [1270909081/1270909081]\n",
      "\n",
      "--2019-12-17 04:01:00--  http://csr.bu.edu/ftp/visda/2019/multi-source/domainnet/txt/clipart_train.txt\n",
      "Resolving csr.bu.edu (csr.bu.edu)... 128.197.10.202\n",
      "Connecting to csr.bu.edu (csr.bu.edu)|128.197.10.202|:80... connected.\n",
      "HTTP request sent, awaiting response... 200 OK\n",
      "Length: 1443819 (1.4M) [text/plain]\n",
      "Saving to: ‘clipart_train.txt’\n",
      "\n",
      "clipart_train.txt   100%[===================>]   1.38M   777KB/s    in 1.8s    \n",
      "\n",
      "2019-12-17 04:01:02 (777 KB/s) - ‘clipart_train.txt’ saved [1443819/1443819]\n",
      "\n",
      "--2019-12-17 04:01:03--  http://csr.bu.edu/ftp/visda/2019/multi-source/domainnet/txt/clipart_test.txt\n",
      "Resolving csr.bu.edu (csr.bu.edu)... 128.197.10.202\n",
      "Connecting to csr.bu.edu (csr.bu.edu)|128.197.10.202|:80... connected.\n",
      "HTTP request sent, awaiting response... 200 OK\n",
      "Length: 628917 (614K) [text/plain]\n",
      "Saving to: ‘clipart_test.txt’\n",
      "\n",
      "clipart_test.txt    100%[===================>] 614.18K   579KB/s    in 1.1s    \n",
      "\n",
      "2019-12-17 04:01:04 (579 KB/s) - ‘clipart_test.txt’ saved [628917/628917]\n",
      "\n",
      "--2019-12-17 04:01:20--  http://csr.bu.edu/ftp/visda/2019/multi-source/infograph.zip\n",
      "Resolving csr.bu.edu (csr.bu.edu)... 128.197.10.202\n",
      "Connecting to csr.bu.edu (csr.bu.edu)|128.197.10.202|:80... connected.\n",
      "HTTP request sent, awaiting response... 200 OK\n",
      "Length: 4338659804 (4.0G) [application/zip]\n",
      "Saving to: ‘infograph.zip’\n",
      "\n",
      "infograph.zip       100%[===================>]   4.04G  29.5MB/s    in 2m 0s   \n",
      "\n",
      "2019-12-17 04:03:20 (34.5 MB/s) - ‘infograph.zip’ saved [4338659804/4338659804]\n",
      "\n",
      "--2019-12-17 04:03:23--  http://csr.bu.edu/ftp/visda/2019/multi-source/domainnet/txt/infograph_train.txt\n",
      "Resolving csr.bu.edu (csr.bu.edu)... 128.197.10.202\n",
      "Connecting to csr.bu.edu (csr.bu.edu)|128.197.10.202|:80... connected.\n",
      "HTTP request sent, awaiting response... 200 OK\n",
      "Length: 1683098 (1.6M) [text/plain]\n",
      "Saving to: ‘infograph_train.txt’\n",
      "\n",
      "infograph_train.txt 100%[===================>]   1.60M   805KB/s    in 2.0s    \n",
      "\n",
      "2019-12-17 04:03:25 (805 KB/s) - ‘infograph_train.txt’ saved [1683098/1683098]\n",
      "\n",
      "--2019-12-17 04:03:26--  http://csr.bu.edu/ftp/visda/2019/multi-source/domainnet/txt/infograph_test.txt\n",
      "Resolving csr.bu.edu (csr.bu.edu)... 128.197.10.202\n",
      "Connecting to csr.bu.edu (csr.bu.edu)|128.197.10.202|:80... connected.\n",
      "HTTP request sent, awaiting response... 200 OK\n",
      "Length: 728028 (711K) [text/plain]\n",
      "Saving to: ‘infograph_test.txt’\n",
      "\n",
      "infograph_test.txt  100%[===================>] 710.96K   560KB/s    in 1.3s    \n",
      "\n",
      "2019-12-17 04:03:27 (560 KB/s) - ‘infograph_test.txt’ saved [728028/728028]\n",
      "\n",
      "--2019-12-17 04:04:13--  http://csr.bu.edu/ftp/visda/2019/multi-source/groundtruth/painting.zip\n",
      "Resolving csr.bu.edu (csr.bu.edu)... 128.197.10.202\n",
      "Connecting to csr.bu.edu (csr.bu.edu)|128.197.10.202|:80... connected.\n",
      "HTTP request sent, awaiting response... 200 OK\n",
      "Length: 3679366174 (3.4G) [application/zip]\n",
      "Saving to: ‘painting.zip’\n",
      "\n",
      "painting.zip        100%[===================>]   3.43G  35.3MB/s    in 92s     \n",
      "\n",
      "2019-12-17 04:05:46 (38.0 MB/s) - ‘painting.zip’ saved [3679366174/3679366174]\n",
      "\n",
      "--2019-12-17 04:05:46--  http://csr.bu.edu/ftp/visda/2019/multi-source/domainnet/txt/painting_train.txt\n",
      "Resolving csr.bu.edu (csr.bu.edu)... 128.197.10.202\n",
      "Connecting to csr.bu.edu (csr.bu.edu)|128.197.10.202|:80... connected.\n",
      "HTTP request sent, awaiting response... 200 OK\n",
      "Length: 2241901 (2.1M) [text/plain]\n",
      "Saving to: ‘painting_train.txt’\n",
      "\n",
      "painting_train.txt  100%[===================>]   2.14M   928KB/s    in 2.4s    \n",
      "\n",
      "2019-12-17 04:05:49 (928 KB/s) - ‘painting_train.txt’ saved [2241901/2241901]\n",
      "\n",
      "--2019-12-17 04:05:49--  http://csr.bu.edu/ftp/visda/2019/multi-source/domainnet/txt/painting_test.txt\n",
      "Resolving csr.bu.edu (csr.bu.edu)... 128.197.10.202\n",
      "Connecting to csr.bu.edu (csr.bu.edu)|128.197.10.202|:80... connected.\n",
      "HTTP request sent, awaiting response... 200 OK\n",
      "Length: 971888 (949K) [text/plain]\n",
      "Saving to: ‘painting_test.txt’\n",
      "\n",
      "painting_test.txt   100%[===================>] 949.11K   635KB/s    in 1.5s    \n",
      "\n",
      "2019-12-17 04:05:51 (635 KB/s) - ‘painting_test.txt’ saved [971888/971888]\n",
      "\n",
      "--2019-12-17 04:06:27--  http://csr.bu.edu/ftp/visda/2019/multi-source/quickdraw.zip\n",
      "Resolving csr.bu.edu (csr.bu.edu)... 128.197.10.202\n",
      "Connecting to csr.bu.edu (csr.bu.edu)|128.197.10.202|:80... connected.\n",
      "HTTP request sent, awaiting response... 200 OK\n",
      "Length: 459920701 (439M) [application/zip]\n",
      "Saving to: ‘quickdraw.zip’\n",
      "\n",
      "quickdraw.zip       100%[===================>] 438.61M  42.2MB/s    in 14s     \n",
      "\n",
      "2019-12-17 04:06:41 (32.0 MB/s) - ‘quickdraw.zip’ saved [459920701/459920701]\n",
      "\n",
      "--2019-12-17 04:06:42--  http://csr.bu.edu/ftp/visda/2019/multi-source/domainnet/txt/quickdraw_train.txt\n",
      "Resolving csr.bu.edu (csr.bu.edu)... 128.197.10.202\n",
      "Connecting to csr.bu.edu (csr.bu.edu)|128.197.10.202|:80... connected.\n",
      "HTTP request sent, awaiting response... 200 OK\n",
      "Length: 5164600 (4.9M) [text/plain]\n",
      "Saving to: ‘quickdraw_train.txt’\n",
      "\n",
      "quickdraw_train.txt 100%[===================>]   4.92M  1.95MB/s    in 2.5s    \n",
      "\n",
      "2019-12-17 04:06:44 (1.95 MB/s) - ‘quickdraw_train.txt’ saved [5164600/5164600]\n",
      "\n",
      "--2019-12-17 04:06:45--  http://csr.bu.edu/ftp/visda/2019/multi-source/domainnet/txt/quickdraw_test.txt\n",
      "Resolving csr.bu.edu (csr.bu.edu)... 128.197.10.202\n",
      "Connecting to csr.bu.edu (csr.bu.edu)|128.197.10.202|:80... connected.\n",
      "HTTP request sent, awaiting response... 200 OK\n",
      "Length: 2213400 (2.1M) [text/plain]\n",
      "Saving to: ‘quickdraw_test.txt’\n",
      "\n",
      "quickdraw_test.txt  100%[===================>]   2.11M  1.00MB/s    in 2.1s    \n",
      "\n",
      "2019-12-17 04:06:47 (1.00 MB/s) - ‘quickdraw_test.txt’ saved [2213400/2213400]\n",
      "\n",
      "--2019-12-17 04:07:00--  http://csr.bu.edu/ftp/visda/2019/multi-source/real.zip\n",
      "Resolving csr.bu.edu (csr.bu.edu)... 128.197.10.202\n",
      "Connecting to csr.bu.edu (csr.bu.edu)|128.197.10.202|:80... connected.\n",
      "HTTP request sent, awaiting response... 200 OK\n",
      "Length: 6062039589 (5.6G) [application/zip]\n",
      "Saving to: ‘real.zip’\n",
      "\n",
      "real.zip            100%[===================>]   5.65G  40.6MB/s    in 2m 27s  \n",
      "\n",
      "2019-12-17 04:09:27 (39.3 MB/s) - ‘real.zip’ saved [6062039589/6062039589]\n",
      "\n",
      "--2019-12-17 04:09:27--  http://csr.bu.edu/ftp/visda/2019/multi-source/domainnet/txt/real_train.txt\n",
      "Resolving csr.bu.edu (csr.bu.edu)... 128.197.10.202\n",
      "Connecting to csr.bu.edu (csr.bu.edu)|128.197.10.202|:80... connected.\n",
      "HTTP request sent, awaiting response... 200 OK\n",
      "Length: 4440944 (4.2M) [text/plain]\n",
      "Saving to: ‘real_train.txt’\n",
      "\n",
      "real_train.txt      100%[===================>]   4.23M  1.43MB/s    in 3.0s    \n",
      "\n",
      "2019-12-17 04:09:30 (1.43 MB/s) - ‘real_train.txt’ saved [4440944/4440944]\n",
      "\n",
      "--2019-12-17 04:09:31--  http://csr.bu.edu/ftp/visda/2019/multi-source/domainnet/txt/real_test.txt\n",
      "Resolving csr.bu.edu (csr.bu.edu)... 128.197.10.202\n",
      "Connecting to csr.bu.edu (csr.bu.edu)|128.197.10.202|:80... connected.\n",
      "HTTP request sent, awaiting response... 200 OK\n",
      "Length: 1911327 (1.8M) [text/plain]\n",
      "Saving to: ‘real_test.txt’\n",
      "\n",
      "real_test.txt       100%[===================>]   1.82M   858KB/s    in 2.2s    \n",
      "\n",
      "2019-12-17 04:09:34 (858 KB/s) - ‘real_test.txt’ saved [1911327/1911327]\n",
      "\n",
      "--2019-12-17 04:10:48--  http://csr.bu.edu/ftp/visda/2019/multi-source/sketch.zip\n",
      "Resolving csr.bu.edu (csr.bu.edu)... 128.197.10.202\n",
      "Connecting to csr.bu.edu (csr.bu.edu)|128.197.10.202|:80... connected.\n",
      "HTTP request sent, awaiting response... 200 OK\n",
      "Length: 2633992926 (2.5G) [application/zip]\n",
      "Saving to: ‘sketch.zip’\n",
      "\n",
      "sketch.zip          100%[===================>]   2.45G  36.3MB/s    in 66s     \n",
      "\n",
      "2019-12-17 04:11:54 (38.1 MB/s) - ‘sketch.zip’ saved [2633992926/2633992926]\n",
      "\n",
      "--2019-12-17 04:11:55--  http://csr.bu.edu/ftp/visda/2019/multi-source/domainnet/txt/sketch_train.txt\n",
      "Resolving csr.bu.edu (csr.bu.edu)... 128.197.10.202\n",
      "Connecting to csr.bu.edu (csr.bu.edu)|128.197.10.202|:80... connected.\n",
      "HTTP request sent, awaiting response... 200 OK\n",
      "Length: 1960222 (1.9M) [text/plain]\n",
      "Saving to: ‘sketch_train.txt’\n",
      "\n",
      "sketch_train.txt    100%[===================>]   1.87M   888KB/s    in 2.2s    \n",
      "\n",
      "2019-12-17 04:11:57 (888 KB/s) - ‘sketch_train.txt’ saved [1960222/1960222]\n",
      "\n",
      "--2019-12-17 04:11:57--  http://csr.bu.edu/ftp/visda/2019/multi-source/domainnet/txt/sketch_test.txt\n",
      "Resolving csr.bu.edu (csr.bu.edu)... 128.197.10.202\n",
      "Connecting to csr.bu.edu (csr.bu.edu)|128.197.10.202|:80... connected.\n",
      "HTTP request sent, awaiting response... 200 OK\n",
      "Length: 850581 (831K) [text/plain]\n",
      "Saving to: ‘sketch_test.txt’\n",
      "\n",
      "sketch_test.txt     100%[===================>] 830.65K   594KB/s    in 1.4s    \n",
      "\n",
      "2019-12-17 04:11:59 (594 KB/s) - ‘sketch_test.txt’ saved [850581/850581]\n",
      "\n"
     ]
    }
   ],
   "source": [
    "import os\n",
    "\n",
    "if not os.path.exists(\"clipart\"):\n",
    "    !wget http://csr.bu.edu/ftp/visda/2019/multi-source/groundtruth/clipart.zip\n",
    "    !wget http://csr.bu.edu/ftp/visda/2019/multi-source/domainnet/txt/clipart_train.txt\n",
    "    !wget http://csr.bu.edu/ftp/visda/2019/multi-source/domainnet/txt/clipart_test.txt\n",
    "    !unzip clipart.zip > /dev/null\n",
    "\n",
    "if not os.path.exists(\"infograph\"):\n",
    "    !wget http://csr.bu.edu/ftp/visda/2019/multi-source/infograph.zip\n",
    "    !wget http://csr.bu.edu/ftp/visda/2019/multi-source/domainnet/txt/infograph_train.txt\n",
    "    !wget http://csr.bu.edu/ftp/visda/2019/multi-source/domainnet/txt/infograph_test.txt\n",
    "    !unzip infograph.zip > /dev/null\n",
    "    \n",
    "if not os.path.exists(\"painting\"):\n",
    "    !wget http://csr.bu.edu/ftp/visda/2019/multi-source/groundtruth/painting.zip\n",
    "    !wget http://csr.bu.edu/ftp/visda/2019/multi-source/domainnet/txt/painting_train.txt\n",
    "    !wget http://csr.bu.edu/ftp/visda/2019/multi-source/domainnet/txt/painting_test.txt\n",
    "    !unzip painting.zip > /dev/null\n",
    "\n",
    "if not os.path.exists(\"quickdraw\"):\n",
    "    !wget http://csr.bu.edu/ftp/visda/2019/multi-source/quickdraw.zip\n",
    "    !wget http://csr.bu.edu/ftp/visda/2019/multi-source/domainnet/txt/quickdraw_train.txt\n",
    "    !wget http://csr.bu.edu/ftp/visda/2019/multi-source/domainnet/txt/quickdraw_test.txt\n",
    "    !unzip quickdraw.zip > /dev/null\n",
    "\n",
    "if not os.path.exists(\"real\"):\n",
    "    !wget http://csr.bu.edu/ftp/visda/2019/multi-source/real.zip\n",
    "    !wget http://csr.bu.edu/ftp/visda/2019/multi-source/domainnet/txt/real_train.txt\n",
    "    !wget http://csr.bu.edu/ftp/visda/2019/multi-source/domainnet/txt/real_test.txt\n",
    "    !unzip real.zip > /dev/null\n",
    "\n",
    "if not os.path.exists(\"sketch\"):\n",
    "    !wget http://csr.bu.edu/ftp/visda/2019/multi-source/sketch.zip\n",
    "    !wget http://csr.bu.edu/ftp/visda/2019/multi-source/domainnet/txt/sketch_train.txt\n",
    "    !wget http://csr.bu.edu/ftp/visda/2019/multi-source/domainnet/txt/sketch_test.txt\n",
    "    !unzip sketch.zip > /dev/null"
   ]
  },
  {
   "cell_type": "markdown",
   "metadata": {
    "colab_type": "text",
    "id": "XRF8MpHu1657"
   },
   "source": [
    "### Imports and Global Variables"
   ]
  },
  {
   "cell_type": "code",
   "execution_count": 0,
   "metadata": {
    "colab": {},
    "colab_type": "code",
    "id": "jASLKnOl7Z4d"
   },
   "outputs": [],
   "source": [
    "# Python Library\n",
    "import random\n",
    "import math\n",
    "import numbers\n",
    "import platform\n",
    "import copy\n",
    "\n",
    "# Image Library\n",
    "import numpy as np\n",
    "import PIL\n",
    "from PIL import Image, ImageOps\n",
    "import matplotlib.pyplot as plt\n",
    "from tqdm import tqdm\n",
    "\n",
    "# Import Pytorch\n",
    "# Please see https://pytorch.org/get-started/locally/ for installation detail\n",
    "import torch\n",
    "import torch.nn.functional as F\n",
    "from torch import nn\n",
    "from torch.utils.data import DataLoader\n",
    "import torchvision.transforms as transforms\n",
    "import torchvision.transforms.functional as tF\n",
    "from torch.utils.data import Dataset\n",
    "import torch.optim as optim\n",
    "import time\n"
   ]
  },
  {
   "cell_type": "code",
   "execution_count": 0,
   "metadata": {
    "colab": {},
    "colab_type": "code",
    "id": "FyOnutmM7e_q"
   },
   "outputs": [],
   "source": [
    "USE_GPU = True\n",
    "NUM_CLASSES = 10\n",
    "NUM_DOMAINS = 5\n",
    "NUM_WORKERS = 4\n",
    "BATCH_SIZE = 1\n",
    "\n",
    "#norm = ([0.485, 0.456, 0.406], \n",
    "#        [0.229, 0.224, 0.225]) this norm is used for using the ResNet34\n",
    "\n",
    "transform = transforms.Compose(\n",
    "    [transforms.Resize(224),\n",
    "    transforms.CenterCrop(224),\n",
    "     transforms.ToTensor(),\n",
    "     transforms.Normalize((0.485, 0.456, 0.406), (0.229, 0.224, 0.225)),\n",
    "     ])"
   ]
  },
  {
   "cell_type": "markdown",
   "metadata": {
    "colab_type": "text",
    "id": "sVjKXT_x_ota"
   },
   "source": [
    "# 3. Naive Implementation\n",
    "\n",
    "First, we train a big CNN using all the images from all the SRPQI domains and test its performance on the Clipart domain."
   ]
  },
  {
   "cell_type": "markdown",
   "metadata": {
    "colab_type": "text",
    "id": "hMExr3-lAZ3n"
   },
   "source": [
    "## 3.1 Loading the dataset"
   ]
  },
  {
   "cell_type": "code",
   "execution_count": 0,
   "metadata": {
    "colab": {},
    "colab_type": "code",
    "id": "tUco-Il87fX5"
   },
   "outputs": [],
   "source": [
    "class MultiFileDataset(Dataset):\n",
    "    def __init__(self, files, transform):\n",
    "        self.samples = []\n",
    "        self.size = 0\n",
    "        self.transform = transform\n",
    "\n",
    "        for file in files:\n",
    "            with open(file, \"r\") as f:\n",
    "                for line in f:\n",
    "                    img_path, val = line.split(\" \")\n",
    "                    val = int(val)\n",
    "\n",
    "                    if val >= NUM_CLASSES:\n",
    "                        break\n",
    "                \n",
    "                    self.samples.append((self.transform(Image.open(img_path)), val))\n",
    "                    self.size += 1\n",
    "    \n",
    "    def __len__(self):\n",
    "        return self.size\n",
    "\n",
    "    def __getitem__(self, idx):\n",
    "        img, val = self.samples[idx]\n",
    "        return img, val"
   ]
  },
  {
   "cell_type": "code",
   "execution_count": 0,
   "metadata": {
    "colab": {
     "base_uri": "https://localhost:8080/",
     "height": 51
    },
    "colab_type": "code",
    "id": "vNqRq12oTTjD",
    "outputId": "c6858f25-bdf2-4928-ae82-79eb070ef8cc"
   },
   "outputs": [
    {
     "name": "stdout",
     "output_type": "stream",
     "text": [
      "9357\n",
      "4040\n"
     ]
    }
   ],
   "source": [
    "domain_train_files = [\n",
    "\"infograph_train.txt\",\n",
    "\"painting_train.txt\",\n",
    "\"quickdraw_train.txt\",\n",
    "\"real_train.txt\",\n",
    "\"sketch_train.txt\"\n",
    "]\n",
    "\n",
    "domain_test_files = [      \n",
    "\"infograph_test.txt\",\n",
    "\"painting_test.txt\",\n",
    "\"quickdraw_test.txt\",\n",
    "\"real_test.txt\",\n",
    "\"sketch_test.txt\",\n",
    "]\n",
    "\n",
    "train_ds = MultiFileDataset(domain_train_files, transform=transform)\n",
    "train_loader = torch.utils.data.DataLoader(train_ds, shuffle=True, num_workers=NUM_WORKERS, batch_size=BATCH_SIZE)\n",
    "test_ds = MultiFileDataset(domain_test_files, transform=transform)\n",
    "test_loader = torch.utils.data.DataLoader(test_ds, shuffle=True, num_workers=NUM_WORKERS, batch_size=BATCH_SIZE)\n",
    "\n",
    "print(len(train_ds))\n",
    "print(len(test_ds))"
   ]
  },
  {
   "cell_type": "markdown",
   "metadata": {
    "colab_type": "text",
    "id": "2fZ0T7d1BBfC"
   },
   "source": [
    "## 3.2 Defining the model\n",
    "\n",
    "The CNN architecture is based on a pretrained ResNet34 and it will be the common architecture for all our CNNs."
   ]
  },
  {
   "cell_type": "code",
   "execution_count": 0,
   "metadata": {
    "colab": {},
    "colab_type": "code",
    "id": "uwuUluvS8mFo"
   },
   "outputs": [],
   "source": [
    "# Define the network\n",
    "import torchvision.models as models\n",
    "\n",
    "# The Netwrok perform the classsificatino to given number of classes using Resnet34 \n",
    "# This network can be initialize by calling it and passing the desired number classes in. For example, N = ClassificationNet(10) gives network of 10 classes\n",
    "class ClassificationNet(nn.Module):\n",
    "    def __init__(self, num_classes, criterion=None):\n",
    "        super(ClassificationNet, self).__init__()\n",
    "\n",
    "        resnet = models.resnet34(pretrained=True)\n",
    "        self.conv1 = resnet.conv1\n",
    "        self.bn1 = resnet.bn1\n",
    "        self.maxpool = resnet.maxpool\n",
    "        self.layer1 = resnet.layer1\n",
    "        self.layer2 = resnet.layer2\n",
    "        self.layer3 = resnet.layer3\n",
    "        self.layer4 = resnet.layer4\n",
    "        self.avgpool = resnet.avgpool\n",
    "        self.fc = nn.Linear(in_features=(512*1*1),out_features=(num_classes))\n",
    "        \n",
    "        self.criterion = criterion\n",
    "    \n",
    "    def forward(self,inp, gts=None):\n",
    "        \n",
    "        inp = self.conv1(inp)\n",
    "        inp = self.bn1(inp)\n",
    "        minp = self.maxpool(F.relu(inp))\n",
    "        inp1 = self.layer1(minp)\n",
    "        inp2 = self.layer2(inp1+minp)\n",
    "        inp3 = self.layer3(inp2+(self.layer2[0].downsample(inp1)))\n",
    "        inp4 = self.layer4(inp3+self.layer3[0].downsample(inp2))\n",
    "        inp = self.avgpool(inp4)\n",
    "        inp = inp.view(inp.size()[2]*inp.size()[3], -1)\n",
    "        lfinal = self.fc(inp)\n",
    "\n",
    "        return lfinal"
   ]
  },
  {
   "cell_type": "code",
   "execution_count": 0,
   "metadata": {
    "colab": {},
    "colab_type": "code",
    "id": "icXVsATGAvQq"
   },
   "outputs": [],
   "source": [
    "criterion = nn.CrossEntropyLoss()\n",
    "net = ClassificationNet(NUM_CLASSES, criterion=criterion)\n",
    "optimizer = optim.SGD(net.parameters(), lr=0.001, momentum=0.9)"
   ]
  },
  {
   "cell_type": "markdown",
   "metadata": {
    "colab_type": "text",
    "id": "kYqcQB-_DAbD"
   },
   "source": [
    "## 3.3 Training BigCNN model\n",
    "\n",
    "Helper functions"
   ]
  },
  {
   "cell_type": "code",
   "execution_count": 0,
   "metadata": {
    "colab": {},
    "colab_type": "code",
    "id": "prw7LhLMCSUH"
   },
   "outputs": [],
   "source": [
    "def test(test_loader, net, classifying_domain=False):\n",
    "    correct = 0\n",
    "    total = 0\n",
    "    test_loss = 0\n",
    "    for i, data in enumerate(test_loader):\n",
    "        if classifying_domain:\n",
    "            inputs, labels, _ = data\n",
    "        else:\n",
    "            inputs, labels = data\n",
    "\n",
    "        if USE_GPU:\n",
    "            # convert to GPU compatible form\n",
    "            inputs = inputs.cuda()\n",
    "            net = net.cuda()\n",
    "            labels = labels.cuda()\n",
    "          \n",
    "        outputs = net(inputs)\n",
    "        _, predicted = torch.max(outputs.data, 1)\n",
    "        total += labels.size(0)\n",
    "        correct += (predicted == labels).sum().item()\n",
    "        loss = criterion(outputs,labels)\n",
    "        test_loss += loss.item()\n",
    "\n",
    "    test_accuracy = 100 * correct / total\n",
    "    return test_loss, test_accuracy\n",
    "\n",
    "def train(train_loader, net, optimizer, classifying_domain):\n",
    "    total = len(train_loader)\n",
    "    total_loss = 0.0\n",
    "    total_correct = 0.0\n",
    "\n",
    "    for i, data in enumerate(train_loader):\n",
    "        if classifying_domain:\n",
    "            inputs, targets, _ = data\n",
    "        else:\n",
    "            inputs, targets = data\n",
    "\n",
    "        if USE_GPU:\n",
    "            inputs = inputs.cuda()\n",
    "            net = net.cuda()\n",
    "            targets = targets.cuda()\n",
    "        \n",
    "        optimizer.zero_grad()\n",
    "        outputs = net.forward(inputs)\n",
    "        loss = criterion(outputs,targets)\n",
    "        loss.backward()\n",
    "        optimizer.step()\n",
    "\n",
    "        total_loss += loss.item()\n",
    "        _, predicted = torch.max(outputs.data, 1)\n",
    "        correct = (predicted == targets).float().sum()\n",
    "        total_correct += correct\n",
    "\n",
    "    total_accuracy = (total_correct / total) * 100\n",
    "    return total_loss, total_accuracy"
   ]
  },
  {
   "cell_type": "markdown",
   "metadata": {
    "colab_type": "text",
    "id": "8_CnX9EODj6P"
   },
   "source": [
    "Training loop (this takes around 1 hour using Google Colab GPUs)"
   ]
  },
  {
   "cell_type": "code",
   "execution_count": 0,
   "metadata": {
    "colab": {},
    "colab_type": "code",
    "id": "KCaiUDuYDlOI"
   },
   "outputs": [],
   "source": [
    "def training_loop(train_loader, test_loader, net, epochs, name, classifying_domain=False):\n",
    "    training_loss = []\n",
    "    testing_loss = []\n",
    "    training_acc = []\n",
    "    testing_acc = []\n",
    "    best_test_acc = 0\n",
    "\n",
    "    for i in range(epochs):\n",
    "        net.train()\n",
    "        train_loss, train_accuracy = train(train_loader, net, optimizer, classifying_domain)\n",
    "        net.eval()\n",
    "        test_loss, test_accuracy = test(test_loader, net, classifying_domain)\n",
    "        training_loss.append(train_loss)\n",
    "        testing_loss.append(test_loss)\n",
    "        training_acc.append(train_accuracy)\n",
    "        testing_acc.append(test_accuracy)\n",
    "\n",
    "        print(\"Epoch {}: TrainLoss={}, TrainAcc={}, TestLoss={}, TestAcc={}\".format(i, train_loss, train_accuracy, test_loss, test_accuracy))\n",
    "        # save model with best test accuracy\n",
    "        if test_accuracy > best_test_acc:\n",
    "            print('Saving ', name + \"_BEST\", ' with best test accuracy {}'.format(test_accuracy))\n",
    "            print()\n",
    "            torch.save(net.state_dict(), name + \"_BEST\")\n",
    "            best_test_acc = test_accuracy\n",
    "    \n",
    "    torch.save(net.state_dict(), name + \"_FINAL\")\n",
    "    return training_loss, training_acc, testing_loss, testing_acc"
   ]
  },
  {
   "cell_type": "code",
   "execution_count": 0,
   "metadata": {
    "colab": {
     "base_uri": "https://localhost:8080/",
     "height": 221
    },
    "colab_type": "code",
    "id": "X4PQJlJEF10I",
    "outputId": "32133f59-d97d-4f90-9f4c-94214aba20ea"
   },
   "outputs": [
    {
     "name": "stdout",
     "output_type": "stream",
     "text": [
      "Epoch 0: TrainLoss=8480.27359700203, TrainAcc=70.17206573486328, TestLoss=6300.389349102974, TestAcc=65.51980198019803\n",
      "Saving  BigCNN_1576556890  with best test accuracy 65.51980198019803\n",
      "\n",
      "Epoch 1: TrainLoss=5697.9435448646545, TrainAcc=80.6882553100586, TestLoss=7651.195850610733, TestAcc=59.9009900990099\n",
      "Epoch 2: TrainLoss=4057.7410777807236, TrainAcc=85.7646713256836, TestLoss=9700.119158267975, TestAcc=60.37128712871287\n",
      "Epoch 3: TrainLoss=2872.7931209802628, TrainAcc=90.17847442626953, TestLoss=13911.091617822647, TestAcc=56.43564356435643\n",
      "Epoch 4: TrainLoss=2200.0318155288696, TrainAcc=92.51897430419922, TestLoss=9389.334311842918, TestAcc=58.86138613861386\n",
      "Epoch 5: TrainLoss=1555.1698520183563, TrainAcc=94.65641021728516, TestLoss=14948.838566064835, TestAcc=64.38118811881188\n",
      "Epoch 6: TrainLoss=1135.43221950531, TrainAcc=96.13124084472656, TestLoss=20579.70744228363, TestAcc=61.95544554455446\n",
      "Epoch 7: TrainLoss=753.0332016944885, TrainAcc=97.54195404052734, TestLoss=11752.966176867485, TestAcc=59.975247524752476\n",
      "Epoch 8: TrainLoss=625.9307386875153, TrainAcc=98.10836791992188, TestLoss=20514.11937022209, TestAcc=58.63861386138614\n",
      "Epoch 9: TrainLoss=348.7053322792053, TrainAcc=98.909912109375, TestLoss=16899.97611618042, TestAcc=57.277227722772274\n"
     ]
    }
   ],
   "source": [
    "epochs = 10\n",
    "training_loss, training_acc, testing_loss, testing_acc = training_loop(train_loader, test_loader, net, epochs, \"BigCNN\")"
   ]
  },
  {
   "cell_type": "markdown",
   "metadata": {
    "colab_type": "text",
    "id": "j7Kprr2kF0ts"
   },
   "source": [
    "## 3.4 Training Metrics for BigCNN"
   ]
  },
  {
   "cell_type": "code",
   "execution_count": 0,
   "metadata": {
    "colab": {
     "base_uri": "https://localhost:8080/",
     "height": 649
    },
    "colab_type": "code",
    "id": "9_MXtWuGG4QH",
    "outputId": "913ff720-717b-48c2-d55f-b330a7d81841"
   },
   "outputs": [
    {
     "data": {
      "image/png": "[encoded data removed]",
      "text/plain": [
       "<Figure size 1116x756 with 4 Axes>"
      ]
     },
     "metadata": {
      "tags": []
     },
     "output_type": "display_data"
    }
   ],
   "source": [
    "def plot_training_metrics(training_loss, training_acc, testing_loss, testing_acc):\n",
    "    fig, ((ax1, ax2), (ax3, ax4)) = plt.subplots(2, 2)\n",
    "    fig.set_size_inches(15.5, 10.5)\n",
    "    ax1.plot(training_loss)\n",
    "    ax1.set_xlabel('Epochs')\n",
    "    ax1.set_ylabel('Loss')\n",
    "    ax1.set_title('Training Loss')\n",
    "\n",
    "    ax2.plot(training_acc)\n",
    "    ax2.set_xlabel('Epochs')\n",
    "    ax2.set_ylabel('Accuracy')\n",
    "    ax2.set_title('Training Accuracy')\n",
    "\n",
    "    ax3.plot(testing_loss)\n",
    "    ax3.set_xlabel('Epochs')\n",
    "    ax3.set_ylabel('Loss')\n",
    "    ax3.set_title('Testing Loss')\n",
    "\n",
    "    ax4.plot(testing_acc)\n",
    "    ax4.set_xlabel('Epochs')\n",
    "    ax4.set_ylabel('Accuracy')\n",
    "    ax4.set_title('Testing Accuracy')\n",
    "\n",
    "    fig.canvas.draw()\n",
    "\n",
    "plot_training_metrics(training_loss, training_acc, testing_loss, testing_acc)"
   ]
  },
  {
   "cell_type": "markdown",
   "metadata": {
    "colab_type": "text",
    "id": "rKk8JTjDKCYF"
   },
   "source": [
    "It seems like the BigCNN is overfitting, as training accuracy is high but testing accuracy is still low (for images in SRPQI). Thus, training for even more epochs would likely not improve upon the generalization performance. Furthermore, it seems like the testing loss and accuracies are erratic even though the training loss and accuracies are behaving properly. Now let's see how the naive model performs on the unseen Clipart data."
   ]
  },
  {
   "cell_type": "markdown",
   "metadata": {
    "colab_type": "text",
    "id": "IT8UYVD-KvZk"
   },
   "source": [
    "## 3.5 Clipart Performance\n",
    "\n",
    "We will use the same `test` helper function described in 3.3.\n",
    "\n"
   ]
  },
  {
   "cell_type": "code",
   "execution_count": 0,
   "metadata": {
    "colab": {
     "base_uri": "https://localhost:8080/",
     "height": 34
    },
    "colab_type": "code",
    "id": "r57m4hGYKuoO",
    "outputId": "30c940c2-b4c8-43a7-8fae-feb96ee0a695"
   },
   "outputs": [
    {
     "name": "stdout",
     "output_type": "stream",
     "text": [
      "1013\n"
     ]
    }
   ],
   "source": [
    "clipart_test_ds = MultiFileDataset([\"clipart_train.txt\", \"clipart_test.txt\"], transform=transform)\n",
    "clipart_test_loader = torch.utils.data.DataLoader(clipart_test_ds, shuffle=True, num_workers=NUM_WORKERS, batch_size=BATCH_SIZE)\n",
    "print(len(clipart_test_loader))"
   ]
  },
  {
   "cell_type": "code",
   "execution_count": 0,
   "metadata": {
    "colab": {
     "base_uri": "https://localhost:8080/",
     "height": 51
    },
    "colab_type": "code",
    "id": "Wc_NUvgBLnL8",
    "outputId": "33878f3f-2dd7-4c1c-831c-7850c6c636e4"
   },
   "outputs": [
    {
     "name": "stdout",
     "output_type": "stream",
     "text": [
      "Test accuracy on clipart (most recently trained model):  57.74925962487661\n",
      "Test accuracy on clipart (best model on validation set):  58.83514313919052\n"
     ]
    }
   ],
   "source": [
    "net.load_state_dict(torch.load('BigCNN_FINAL'))\n",
    "net.eval()\n",
    "_, test_accuracy = test(clipart_test_loader, net)\n",
    "print('Test accuracy on clipart (most recently trained model): ', test_accuracy)\n",
    "\n",
    "net.load_state_dict(torch.load('BigCNN_BEST'))\n",
    "net.eval()\n",
    "_, test_accuracy = test(clipart_test_loader, net)\n",
    "print('Test accuracy on clipart (best model on validation set): ', test_accuracy)"
   ]
  },
  {
   "cell_type": "markdown",
   "metadata": {
    "colab_type": "text",
    "id": "I__1a-zuPkzy"
   },
   "source": [
    "The accuracy for the \"best on SRPQI test set\" and \"most recently trained\" naive models on the Clipart dataset is around 58%. Let's see if we can improve it with our method."
   ]
  },
  {
   "cell_type": "markdown",
   "metadata": {
    "colab_type": "text",
    "id": "riAUSyJZQsit"
   },
   "source": [
    "# 4. Training Separate, Specialized Domain CNNs\n",
    "\n",
    "We now train 5 separate CNNs trained on their respective SRPQI domains. To prevent repetition in the notebook, we will provide one example of how to train one of these networks. The rest we will load from weights that were trained previously in the \"separate_domain.ipynb\" notebook. "
   ]
  },
  {
   "cell_type": "markdown",
   "metadata": {
    "colab_type": "text",
    "id": "mhVd9d2XVLJh"
   },
   "source": [
    "## 4.1 Loading the dataset\n"
   ]
  },
  {
   "cell_type": "code",
   "execution_count": 0,
   "metadata": {
    "colab": {},
    "colab_type": "code",
    "id": "y4SlqW-BVRde"
   },
   "outputs": [],
   "source": [
    "class VisDataset(Dataset):\n",
    "    def __init__(self, file_name, transform, cap=None):\n",
    "        self.samples = []\n",
    "        self.size = 0\n",
    "        self.transform = transform\n",
    "        self.cap = cap\n",
    "\n",
    "        with open(file_name, \"r\") as f:\n",
    "            for line in f:\n",
    "                img_path, val = line.split(\" \")\n",
    "                val = int(val)\n",
    "\n",
    "                if val >= NUM_CLASSES:\n",
    "                    break\n",
    "            \n",
    "                self.samples.append((self.transform(Image.open(img_path)), val))\n",
    "                self.size += 1\n",
    "                \n",
    "                if cap and self.size == cap:\n",
    "                  break\n",
    "    \n",
    "    def __len__(self):\n",
    "        return self.size\n",
    "\n",
    "    def __getitem__(self, idx):\n",
    "        img, val = self.samples[idx]\n",
    "\n",
    "        return img, val"
   ]
  },
  {
   "cell_type": "code",
   "execution_count": 0,
   "metadata": {
    "colab": {
     "base_uri": "https://localhost:8080/",
     "height": 51
    },
    "colab_type": "code",
    "id": "uZsKPIdUVXgI",
    "outputId": "b85bc951-aa1e-4da4-8136-0a061fe73d0a"
   },
   "outputs": [
    {
     "name": "stdout",
     "output_type": "stream",
     "text": [
      "1220\n",
      "530\n"
     ]
    }
   ],
   "source": [
    "DOMAIN = 'sketch'\n",
    "train_ds = VisDataset(DOMAIN + \"_train.txt\", transform=transform)\n",
    "train_loader = torch.utils.data.DataLoader(train_ds, shuffle=True, num_workers=NUM_WORKERS, batch_size=BATCH_SIZE)\n",
    "test_ds = VisDataset(DOMAIN + \"_test.txt\", transform=transform)\n",
    "test_loader = torch.utils.data.DataLoader(test_ds, shuffle=True, num_workers=NUM_WORKERS, batch_size=BATCH_SIZE)\n",
    "\n",
    "print(len(train_ds))\n",
    "print(len(test_ds))"
   ]
  },
  {
   "cell_type": "markdown",
   "metadata": {
    "colab_type": "text",
    "id": "Mr1SOiofW0qG"
   },
   "source": [
    "For training and testing, we will conveniently use the same methods defined in 3.3 and 3.4."
   ]
  },
  {
   "cell_type": "markdown",
   "metadata": {
    "colab_type": "text",
    "id": "fLH5f8TAVkcA"
   },
   "source": [
    "## 4.2 Training the Specialized Model"
   ]
  },
  {
   "cell_type": "code",
   "execution_count": 0,
   "metadata": {
    "colab": {},
    "colab_type": "code",
    "id": "0sLRy06dV2I9"
   },
   "outputs": [],
   "source": [
    "criterion = nn.CrossEntropyLoss()\n",
    "# note that we have to initialize our network first in order to use net.parameters()\n",
    "net = ClassificationNet(NUM_CLASSES, criterion=criterion)\n",
    "optimizer = optim.SGD(net.parameters(), lr=0.001, momentum=0.9)"
   ]
  },
  {
   "cell_type": "code",
   "execution_count": 0,
   "metadata": {
    "colab": {
     "base_uri": "https://localhost:8080/",
     "height": 442
    },
    "colab_type": "code",
    "id": "DK5tiK31V4nX",
    "outputId": "81708f2a-3ae3-4f52-bcf3-fa8d7fdef9d6"
   },
   "outputs": [
    {
     "name": "stdout",
     "output_type": "stream",
     "text": [
      "Epoch 0: TrainLoss=1711.3075823783875, TrainAcc=52.704917907714844, TestLoss=928.5639995336533, TestAcc=47.54716981132076\n",
      "Saving  sketch_BEST  with best test accuracy 47.54716981132076\n",
      "\n",
      "Epoch 1: TrainLoss=1266.0058575868607, TrainAcc=66.0655746459961, TestLoss=956.2696712017059, TestAcc=45.471698113207545\n",
      "Epoch 2: TrainLoss=922.8928052186966, TrainAcc=75.81967163085938, TestLoss=1071.6242364645004, TestAcc=52.83018867924528\n",
      "Saving  sketch_BEST  with best test accuracy 52.83018867924528\n",
      "\n",
      "Epoch 3: TrainLoss=747.2901307344437, TrainAcc=79.09835815429688, TestLoss=1215.8326176404953, TestAcc=50.37735849056604\n",
      "Epoch 4: TrainLoss=536.2674273252487, TrainAcc=85.6557388305664, TestLoss=852.9981373548508, TestAcc=62.64150943396226\n",
      "Saving  sketch_BEST  with best test accuracy 62.64150943396226\n",
      "\n",
      "Epoch 5: TrainLoss=403.8942041397095, TrainAcc=89.26229858398438, TestLoss=6056.367991447449, TestAcc=38.490566037735846\n",
      "Epoch 6: TrainLoss=286.8844553232193, TrainAcc=93.03279113769531, TestLoss=773.7827283143997, TestAcc=66.60377358490567\n",
      "Saving  sketch_BEST  with best test accuracy 66.60377358490567\n",
      "\n",
      "Epoch 7: TrainLoss=230.05582773685455, TrainAcc=93.68852233886719, TestLoss=1476.9868515729904, TestAcc=57.35849056603774\n",
      "Epoch 8: TrainLoss=165.502943277359, TrainAcc=96.22950744628906, TestLoss=757.781321644783, TestAcc=63.58490566037736\n",
      "Epoch 9: TrainLoss=93.69786310195923, TrainAcc=98.19672393798828, TestLoss=664.3477740287781, TestAcc=65.47169811320755\n",
      "Epoch 10: TrainLoss=55.85737133026123, TrainAcc=99.01639556884766, TestLoss=781.8137940168381, TestAcc=67.35849056603773\n",
      "Saving  sketch_BEST  with best test accuracy 67.35849056603773\n",
      "\n",
      "Epoch 11: TrainLoss=12.359583616256714, TrainAcc=99.91802978515625, TestLoss=833.8775845766068, TestAcc=60.56603773584906\n",
      "Epoch 12: TrainLoss=14.411372661590576, TrainAcc=99.8360595703125, TestLoss=687.7415484189987, TestAcc=65.66037735849056\n",
      "Epoch 13: TrainLoss=12.46580696105957, TrainAcc=99.8360595703125, TestLoss=934.6820484399796, TestAcc=62.075471698113205\n",
      "Epoch 14: TrainLoss=12.877484798431396, TrainAcc=99.8360595703125, TestLoss=852.9074157476425, TestAcc=61.320754716981135\n"
     ]
    }
   ],
   "source": [
    "epochs = 15\n",
    "training_loss, training_acc, testing_loss, testing_acc = training_loop(train_loader, test_loader, net, epochs, DOMAIN)"
   ]
  },
  {
   "cell_type": "markdown",
   "metadata": {
    "colab_type": "text",
    "id": "PT45HsfbWniU"
   },
   "source": [
    "## 4.3 Training Metrics for the Specialized Model"
   ]
  },
  {
   "cell_type": "code",
   "execution_count": 0,
   "metadata": {
    "colab": {
     "base_uri": "https://localhost:8080/",
     "height": 649
    },
    "colab_type": "code",
    "id": "IpPGhVtfW9SP",
    "outputId": "55c73b03-f0d6-4ecf-92a5-5a41ec8757ef"
   },
   "outputs": [
    {
     "data": {
      "image/png": "[encoded data removed]",
      "text/plain": [
       "<Figure size 1116x756 with 4 Axes>"
      ]
     },
     "metadata": {
      "tags": []
     },
     "output_type": "display_data"
    }
   ],
   "source": [
    "plot_training_metrics(training_loss, training_acc, testing_loss, testing_acc)"
   ]
  },
  {
   "cell_type": "markdown",
   "metadata": {
    "colab_type": "text",
    "id": "lm2SCmqkXPaB"
   },
   "source": [
    "## 4.4 Loading the Rest of the Specialized Models\n",
    "\n",
    "To avoid repetition, we will load the rest of the models which were pretrained already. Note that we will only use the last trained models."
   ]
  },
  {
   "cell_type": "code",
   "execution_count": 0,
   "metadata": {
    "colab": {
     "base_uri": "https://localhost:8080/",
     "height": 1000
    },
    "colab_type": "code",
    "id": "dBhxBTyBYWB3",
    "outputId": "d631c299-6f59-4b4c-ad0d-dee9492dab61"
   },
   "outputs": [
    {
     "name": "stdout",
     "output_type": "stream",
     "text": [
      "--2019-12-17 07:46:16--  https://drive.google.com/uc?export=download&id=1r7KdoQ5UxAFNApYAViYyxG2AoBCzn3LW\n",
      "Resolving drive.google.com (drive.google.com)... 74.125.195.100, 74.125.195.102, 74.125.195.101, ...\n",
      "Connecting to drive.google.com (drive.google.com)|74.125.195.100|:443... connected.\n",
      "HTTP request sent, awaiting response... 302 Moved Temporarily\n",
      "Location: https://doc-0c-7c-docs.googleusercontent.com/docs/securesc/ha0ro937gcuc7l7deffksulhg5h7mbp1/vfqnehdbp4cebrnpsjcmqb4n3pckosfk/1576562400000/02600567693616807958/*/1r7KdoQ5UxAFNApYAViYyxG2AoBCzn3LW?e=download [following]\n",
      "Warning: wildcards not supported in HTTP.\n",
      "--2019-12-17 07:46:23--  https://doc-0c-7c-docs.googleusercontent.com/docs/securesc/ha0ro937gcuc7l7deffksulhg5h7mbp1/vfqnehdbp4cebrnpsjcmqb4n3pckosfk/1576562400000/02600567693616807958/*/1r7KdoQ5UxAFNApYAViYyxG2AoBCzn3LW?e=download\n",
      "Resolving doc-0c-7c-docs.googleusercontent.com (doc-0c-7c-docs.googleusercontent.com)... 74.125.20.132, 2607:f8b0:400e:c07::84\n",
      "Connecting to doc-0c-7c-docs.googleusercontent.com (doc-0c-7c-docs.googleusercontent.com)|74.125.20.132|:443... connected.\n",
      "HTTP request sent, awaiting response... 200 OK\n",
      "Length: unspecified [application/octet-stream]\n",
      "Saving to: ‘sketch_FINAL’\n",
      "\n",
      "sketch_FINAL            [   <=>              ]  81.31M   113MB/s    in 0.7s    \n",
      "\n",
      "2019-12-17 07:46:24 (113 MB/s) - ‘sketch_FINAL’ saved [85264019]\n",
      "\n",
      "--2019-12-17 07:46:25--  https://drive.google.com/uc?export=download&id=1DBbRZCXIM19wsf0UgOhDEZuJlEB2BQc4\n",
      "Resolving drive.google.com (drive.google.com)... 74.125.20.113, 74.125.20.139, 74.125.20.101, ...\n",
      "Connecting to drive.google.com (drive.google.com)|74.125.20.113|:443... connected.\n",
      "HTTP request sent, awaiting response... 302 Moved Temporarily\n",
      "Location: https://doc-0s-7c-docs.googleusercontent.com/docs/securesc/ha0ro937gcuc7l7deffksulhg5h7mbp1/1qsl2onn563isusis47vj6s2t4vu2png/1576562400000/02600567693616807958/*/1DBbRZCXIM19wsf0UgOhDEZuJlEB2BQc4?e=download [following]\n",
      "Warning: wildcards not supported in HTTP.\n",
      "--2019-12-17 07:46:35--  https://doc-0s-7c-docs.googleusercontent.com/docs/securesc/ha0ro937gcuc7l7deffksulhg5h7mbp1/1qsl2onn563isusis47vj6s2t4vu2png/1576562400000/02600567693616807958/*/1DBbRZCXIM19wsf0UgOhDEZuJlEB2BQc4?e=download\n",
      "Resolving doc-0s-7c-docs.googleusercontent.com (doc-0s-7c-docs.googleusercontent.com)... 74.125.20.132, 2607:f8b0:400e:c07::84\n",
      "Connecting to doc-0s-7c-docs.googleusercontent.com (doc-0s-7c-docs.googleusercontent.com)|74.125.20.132|:443... connected.\n",
      "HTTP request sent, awaiting response... 200 OK\n",
      "Length: unspecified [application/octet-stream]\n",
      "Saving to: ‘real_FINAL’\n",
      "\n",
      "real_FINAL              [   <=>              ]  81.31M   175MB/s    in 0.5s    \n",
      "\n",
      "2019-12-17 07:46:35 (175 MB/s) - ‘real_FINAL’ saved [85264017]\n",
      "\n",
      "--2019-12-17 07:46:37--  https://drive.google.com/uc?export=download&id=1NloCMck7WRskCJSIgKIllcpmUhExnCFc\n",
      "Resolving drive.google.com (drive.google.com)... 74.125.142.139, 74.125.142.100, 74.125.142.113, ...\n",
      "Connecting to drive.google.com (drive.google.com)|74.125.142.139|:443... connected.\n",
      "HTTP request sent, awaiting response... 302 Moved Temporarily\n",
      "Location: https://doc-0g-7c-docs.googleusercontent.com/docs/securesc/ha0ro937gcuc7l7deffksulhg5h7mbp1/6p4elh9fsq70n438f0i4aoouv8mlej2a/1576562400000/02600567693616807958/*/1NloCMck7WRskCJSIgKIllcpmUhExnCFc?e=download [following]\n",
      "Warning: wildcards not supported in HTTP.\n",
      "--2019-12-17 07:46:39--  https://doc-0g-7c-docs.googleusercontent.com/docs/securesc/ha0ro937gcuc7l7deffksulhg5h7mbp1/6p4elh9fsq70n438f0i4aoouv8mlej2a/1576562400000/02600567693616807958/*/1NloCMck7WRskCJSIgKIllcpmUhExnCFc?e=download\n",
      "Resolving doc-0g-7c-docs.googleusercontent.com (doc-0g-7c-docs.googleusercontent.com)... 74.125.20.132, 2607:f8b0:400e:c07::84\n",
      "Connecting to doc-0g-7c-docs.googleusercontent.com (doc-0g-7c-docs.googleusercontent.com)|74.125.20.132|:443... connected.\n",
      "HTTP request sent, awaiting response... 200 OK\n",
      "Length: unspecified [application/octet-stream]\n",
      "Saving to: ‘quickdraw_FINAL’\n",
      "\n",
      "quickdraw_FINAL         [   <=>              ]  81.31M   172MB/s    in 0.5s    \n",
      "\n",
      "2019-12-17 07:46:40 (172 MB/s) - ‘quickdraw_FINAL’ saved [85264641]\n",
      "\n",
      "--2019-12-17 07:46:41--  https://drive.google.com/uc?export=download&id=1QBCbr01kgRK0u_F3Jl26g-5YAeyv8klL\n",
      "Resolving drive.google.com (drive.google.com)... 74.125.195.100, 74.125.195.102, 74.125.195.101, ...\n",
      "Connecting to drive.google.com (drive.google.com)|74.125.195.100|:443... connected.\n",
      "HTTP request sent, awaiting response... 302 Moved Temporarily\n",
      "Location: https://doc-08-7c-docs.googleusercontent.com/docs/securesc/ha0ro937gcuc7l7deffksulhg5h7mbp1/0iqo76v6i47r9a0jq3oib4n2dji4e5u5/1576562400000/02600567693616807958/*/1QBCbr01kgRK0u_F3Jl26g-5YAeyv8klL?e=download [following]\n",
      "Warning: wildcards not supported in HTTP.\n",
      "--2019-12-17 07:46:44--  https://doc-08-7c-docs.googleusercontent.com/docs/securesc/ha0ro937gcuc7l7deffksulhg5h7mbp1/0iqo76v6i47r9a0jq3oib4n2dji4e5u5/1576562400000/02600567693616807958/*/1QBCbr01kgRK0u_F3Jl26g-5YAeyv8klL?e=download\n",
      "Resolving doc-08-7c-docs.googleusercontent.com (doc-08-7c-docs.googleusercontent.com)... 74.125.20.132, 2607:f8b0:400e:c07::84\n",
      "Connecting to doc-08-7c-docs.googleusercontent.com (doc-08-7c-docs.googleusercontent.com)|74.125.20.132|:443... connected.\n",
      "HTTP request sent, awaiting response... 200 OK\n",
      "Length: unspecified [application/octet-stream]\n",
      "Saving to: ‘painting_FINAL’\n",
      "\n",
      "painting_FINAL          [   <=>              ]  81.31M   122MB/s    in 0.7s    \n",
      "\n",
      "2019-12-17 07:46:45 (122 MB/s) - ‘painting_FINAL’ saved [85264023]\n",
      "\n",
      "--2019-12-17 07:46:46--  https://drive.google.com/uc?export=download&id=1c2bpChGCvi_n2paaiuowR_8W-KIb7sq5\n",
      "Resolving drive.google.com (drive.google.com)... 74.125.195.113, 74.125.195.138, 74.125.195.101, ...\n",
      "Connecting to drive.google.com (drive.google.com)|74.125.195.113|:443... connected.\n",
      "HTTP request sent, awaiting response... 302 Moved Temporarily\n",
      "Location: https://doc-08-bs-docs.googleusercontent.com/docs/securesc/ha0ro937gcuc7l7deffksulhg5h7mbp1/etpq3f8bo0aaplaa5hr06uim0re7u41t/1576562400000/16713605765144523283/*/1c2bpChGCvi_n2paaiuowR_8W-KIb7sq5?e=download [following]\n",
      "Warning: wildcards not supported in HTTP.\n",
      "--2019-12-17 07:46:49--  https://doc-08-bs-docs.googleusercontent.com/docs/securesc/ha0ro937gcuc7l7deffksulhg5h7mbp1/etpq3f8bo0aaplaa5hr06uim0re7u41t/1576562400000/16713605765144523283/*/1c2bpChGCvi_n2paaiuowR_8W-KIb7sq5?e=download\n",
      "Resolving doc-08-bs-docs.googleusercontent.com (doc-08-bs-docs.googleusercontent.com)... 74.125.20.132, 2607:f8b0:400e:c07::84\n",
      "Connecting to doc-08-bs-docs.googleusercontent.com (doc-08-bs-docs.googleusercontent.com)|74.125.20.132|:443... connected.\n",
      "HTTP request sent, awaiting response... 200 OK\n",
      "Length: unspecified [application/octet-stream]\n",
      "Saving to: ‘infograph_FINAL’\n",
      "\n",
      "infograph_FINAL         [  <=>               ]  81.31M   191MB/s    in 0.4s    \n",
      "\n",
      "2019-12-17 07:46:50 (191 MB/s) - ‘infograph_FINAL’ saved [85264445]\n",
      "\n"
     ]
    }
   ],
   "source": [
    "# downloading the pretrained models\n",
    "#!wget 'https://drive.google.com/uc?export=download&id=1r7KdoQ5UxAFNApYAViYyxG2AoBCzn3LW' -O sketch_FINAL\n",
    "!wget 'https://drive.google.com/uc?export=download&id=1DBbRZCXIM19wsf0UgOhDEZuJlEB2BQc4' -O real_FINAL\n",
    "!wget 'https://drive.google.com/uc?export=download&id=1NloCMck7WRskCJSIgKIllcpmUhExnCFc' -O quickdraw_FINAL\n",
    "!wget 'https://drive.google.com/uc?export=download&id=1QBCbr01kgRK0u_F3Jl26g-5YAeyv8klL' -O painting_FINAL\n",
    "!wget 'https://drive.google.com/uc?export=download&id=1c2bpChGCvi_n2paaiuowR_8W-KIb7sq5' -O infograph_FINAL"
   ]
  },
  {
   "cell_type": "code",
   "execution_count": 0,
   "metadata": {
    "colab": {
     "base_uri": "https://localhost:8080/",
     "height": 102
    },
    "colab_type": "code",
    "id": "IvJWZ0Kjb6Qn",
    "outputId": "c8768053-290d-4d8c-f897-22a9cbbfbc3a"
   },
   "outputs": [
    {
     "name": "stdout",
     "output_type": "stream",
     "text": [
      "real_FINAL accuracy on clipart:  51.92497532082922\n",
      "painting_FINAL accuracy on clipart:  58.144126357354395\n",
      "quickdraw_FINAL accuracy on clipart:  15.498519249753208\n",
      "sketch_FINAL accuracy on clipart:  48.37117472852912\n",
      "infograph_FINAL accuracy on clipart:  34.05725567620928\n"
     ]
    }
   ],
   "source": [
    "real = ClassificationNet(NUM_CLASSES)\n",
    "real.load_state_dict(torch.load(\"real_FINAL\"))\n",
    "real.eval()\n",
    "_, acc = test(clipart_test_loader, real)\n",
    "print('real_FINAL accuracy on clipart: ', acc)\n",
    "\n",
    "painting = ClassificationNet(NUM_CLASSES)\n",
    "painting.load_state_dict(torch.load(\"painting_FINAL\"))\n",
    "painting.eval()\n",
    "_, acc = test(clipart_test_loader, painting)\n",
    "print('painting_FINAL accuracy on clipart: ', acc)\n",
    "\n",
    "quickdraw = ClassificationNet(NUM_CLASSES)\n",
    "quickdraw.load_state_dict(torch.load(\"quickdraw_FINAL\"))\n",
    "quickdraw.eval()\n",
    "_, acc = test(clipart_test_loader, quickdraw)\n",
    "print('quickdraw_FINAL accuracy on clipart: ', acc)\n",
    "\n",
    "sketch = ClassificationNet(NUM_CLASSES)\n",
    "sketch.load_state_dict(torch.load(\"sketch_FINAL\"))\n",
    "sketch.eval()\n",
    "_, acc = test(clipart_test_loader, sketch)\n",
    "print('sketch_FINAL accuracy on clipart: ', acc)\n",
    "\n",
    "infograph = ClassificationNet(NUM_CLASSES)\n",
    "infograph.load_state_dict(torch.load(\"infograph_FINAL\"))\n",
    "infograph.eval()\n",
    "_, acc = test(clipart_test_loader, infograph)\n",
    "print('infograph_FINAL accuracy on clipart: ', acc)"
   ]
  },
  {
   "cell_type": "markdown",
   "metadata": {
    "colab_type": "text",
    "id": "MmQNWTTneNmj"
   },
   "source": [
    "Individually, the performance of these domains on the clipart domain are not good. Let's now create the Domain Classifer, which given an image will predict which domain the image belongs to. "
   ]
  },
  {
   "cell_type": "markdown",
   "metadata": {
    "colab_type": "text",
    "id": "9U5kluqMeK-f"
   },
   "source": [
    "# 5. Training the Domain Classifier\n",
    "\n",
    "Once again we will use the methods already defined in 3.3 and 3.4."
   ]
  },
  {
   "cell_type": "markdown",
   "metadata": {
    "colab_type": "text",
    "id": "ORRy3JHOey5E"
   },
   "source": [
    "## 5.1 Loading the dataset "
   ]
  },
  {
   "cell_type": "code",
   "execution_count": 0,
   "metadata": {
    "colab": {},
    "colab_type": "code",
    "id": "E1vhrV3UYM_v"
   },
   "outputs": [],
   "source": [
    "class DomainDataset(Dataset):\n",
    "    def __init__(self, files, transform):\n",
    "        self.samples = []\n",
    "        self.size = 0\n",
    "        self.transform = transform\n",
    "\n",
    "        for domain, file in enumerate(files):\n",
    "            with open(file, \"r\") as f:\n",
    "                for line in f:\n",
    "                    img_path, cls = line.split(\" \")\n",
    "                    cls = int(cls)\n",
    "\n",
    "                    if cls >= NUM_CLASSES:\n",
    "                        break\n",
    "                \n",
    "                    self.samples.append((img_path, domain, cls))\n",
    "                    self.size += 1\n",
    "    \n",
    "    def __len__(self):\n",
    "        return self.size\n",
    "\n",
    "    def __getitem__(self, idx):\n",
    "        path, domain, cls = self.samples[idx]\n",
    "\n",
    "        return self.transform(Image.open(path)), domain, cls"
   ]
  },
  {
   "cell_type": "code",
   "execution_count": 0,
   "metadata": {
    "colab": {
     "base_uri": "https://localhost:8080/",
     "height": 51
    },
    "colab_type": "code",
    "id": "LH-j0Czve6zL",
    "outputId": "4bc1a202-f05d-4ecc-c2bc-feb1d7f4223e"
   },
   "outputs": [
    {
     "name": "stdout",
     "output_type": "stream",
     "text": [
      "9357\n",
      "4040\n"
     ]
    }
   ],
   "source": [
    "train_ds = DomainDataset(domain_train_files, transform=transform)\n",
    "train_loader = torch.utils.data.DataLoader(train_ds, shuffle=True, num_workers=NUM_WORKERS, batch_size=BATCH_SIZE)\n",
    "test_ds = DomainDataset(domain_test_files, transform=transform)\n",
    "test_loader = torch.utils.data.DataLoader(test_ds, shuffle=True, num_workers=NUM_WORKERS, batch_size=BATCH_SIZE)\n",
    "\n",
    "print(len(train_ds))\n",
    "print(len(test_ds))"
   ]
  },
  {
   "cell_type": "markdown",
   "metadata": {
    "colab_type": "text",
    "id": "mTl1Y_kHfP8_"
   },
   "source": [
    "## 5.2 Training and Evaluating Metrics of Domain Classifier"
   ]
  },
  {
   "cell_type": "code",
   "execution_count": 0,
   "metadata": {
    "colab": {},
    "colab_type": "code",
    "id": "nmmqsh1if7NZ"
   },
   "outputs": [],
   "source": [
    "criterion = nn.CrossEntropyLoss()\n",
    "# note that we have to initialize our network first in order to use net.parameters()\n",
    "domain_classifier = ClassificationNet(NUM_DOMAINS, criterion=criterion)\n",
    "optimizer = optim.SGD(domain_classifier.parameters(), lr=0.001, momentum=0.9)"
   ]
  },
  {
   "cell_type": "markdown",
   "metadata": {
    "colab_type": "text",
    "id": "0N4IVAzuoCJp"
   },
   "source": [
    "This will take around 1.5 hour on Google Colab. Or you can skip the next two cells and run a pretrained Domain Classifier on the third cell."
   ]
  },
  {
   "cell_type": "code",
   "execution_count": 0,
   "metadata": {
    "colab": {
     "base_uri": "https://localhost:8080/",
     "height": 323
    },
    "colab_type": "code",
    "id": "TnFOoprdf9jN",
    "outputId": "7cad1cd9-9639-44d2-9147-807e5a6d7847"
   },
   "outputs": [
    {
     "name": "stdout",
     "output_type": "stream",
     "text": [
      "Epoch 0: TrainLoss=6892.180782258511, TrainAcc=70.6316146850586, TestLoss=9661.002130031586, TestAcc=36.163366336633665\n",
      "Saving  Domain_Classifer_BEST  with best test accuracy 36.163366336633665\n",
      "\n",
      "Epoch 1: TrainLoss=3999.445958375931, TrainAcc=82.55850982666016, TestLoss=9400.51695382595, TestAcc=34.9009900990099\n",
      "Epoch 2: TrainLoss=3133.933360815048, TrainAcc=87.03644561767578, TestLoss=14743.448656916618, TestAcc=38.73762376237624\n",
      "Saving  Domain_Classifer_BEST  with best test accuracy 38.73762376237624\n",
      "\n",
      "Epoch 3: TrainLoss=2447.728303551674, TrainAcc=90.03954315185547, TestLoss=13547.234679460526, TestAcc=40.51980198019802\n",
      "Saving  Domain_Classifer_BEST  with best test accuracy 40.51980198019802\n",
      "\n",
      "Epoch 4: TrainLoss=1972.6063869595528, TrainAcc=92.23041534423828, TestLoss=15079.666578531265, TestAcc=29.95049504950495\n",
      "Epoch 5: TrainLoss=1498.2837201356888, TrainAcc=93.8762435913086, TestLoss=12361.454094409943, TestAcc=47.475247524752476\n",
      "Saving  Domain_Classifer_BEST  with best test accuracy 47.475247524752476\n",
      "\n",
      "Epoch 6: TrainLoss=1194.874598145485, TrainAcc=95.44725799560547, TestLoss=11879.436733722687, TestAcc=19.183168316831683\n",
      "Epoch 7: TrainLoss=884.9315799474716, TrainAcc=96.90071868896484, TestLoss=12463.293753266335, TestAcc=41.26237623762376\n",
      "Epoch 8: TrainLoss=779.8883706331253, TrainAcc=97.06102752685547, TestLoss=18897.02886915207, TestAcc=33.98514851485149\n",
      "Epoch 9: TrainLoss=565.5274885892868, TrainAcc=97.94805908203125, TestLoss=18690.992619216442, TestAcc=29.133663366336634\n"
     ]
    }
   ],
   "source": [
    "epochs = 10\n",
    "training_loss, training_acc, testing_loss, testing_acc = training_loop(train_loader, test_loader, domain_classifier, epochs, \"Domain_Classifer\", True)"
   ]
  },
  {
   "cell_type": "code",
   "execution_count": 0,
   "metadata": {
    "colab": {
     "base_uri": "https://localhost:8080/",
     "height": 649
    },
    "colab_type": "code",
    "id": "a9SV_5h7hZGn",
    "outputId": "0efed899-b30e-4795-cd8d-beee6b6987a6"
   },
   "outputs": [
    {
     "data": {
      "image/png": "[encoded data removed]",
      "text/plain": [
       "<Figure size 1116x756 with 4 Axes>"
      ]
     },
     "metadata": {
      "tags": []
     },
     "output_type": "display_data"
    }
   ],
   "source": [
    "plot_training_metrics(training_loss, training_acc, testing_loss, testing_acc)"
   ]
  },
  {
   "cell_type": "code",
   "execution_count": 0,
   "metadata": {
    "colab": {
     "base_uri": "https://localhost:8080/",
     "height": 326
    },
    "colab_type": "code",
    "id": "diOlI9MwzykQ",
    "outputId": "308315b9-83c4-4ccc-99e3-a12cff2d3050"
   },
   "outputs": [
    {
     "name": "stdout",
     "output_type": "stream",
     "text": [
      "--2019-12-17 07:43:32--  https://drive.google.com/uc?export=download&id=1BZ4IqOznm387Jda-TfkvtkN8iM6NOjAB\n",
      "Resolving drive.google.com (drive.google.com)... 74.125.195.100, 74.125.195.101, 74.125.195.113, ...\n",
      "Connecting to drive.google.com (drive.google.com)|74.125.195.100|:443... connected.\n",
      "HTTP request sent, awaiting response... 302 Moved Temporarily\n",
      "Location: https://doc-04-bs-docs.googleusercontent.com/docs/securesc/ha0ro937gcuc7l7deffksulhg5h7mbp1/if40atrkpcv3sej2jf9328t2ika4covg/1576562400000/16713605765144523283/*/1BZ4IqOznm387Jda-TfkvtkN8iM6NOjAB?e=download [following]\n",
      "Warning: wildcards not supported in HTTP.\n",
      "--2019-12-17 07:43:35--  https://doc-04-bs-docs.googleusercontent.com/docs/securesc/ha0ro937gcuc7l7deffksulhg5h7mbp1/if40atrkpcv3sej2jf9328t2ika4covg/1576562400000/16713605765144523283/*/1BZ4IqOznm387Jda-TfkvtkN8iM6NOjAB?e=download\n",
      "Resolving doc-04-bs-docs.googleusercontent.com (doc-04-bs-docs.googleusercontent.com)... 74.125.20.132, 2607:f8b0:400e:c07::84\n",
      "Connecting to doc-04-bs-docs.googleusercontent.com (doc-04-bs-docs.googleusercontent.com)|74.125.20.132|:443... connected.\n",
      "HTTP request sent, awaiting response... 200 OK\n",
      "Length: unspecified [application/octet-stream]\n",
      "Saving to: ‘Domain_Classifier_FINAL’\n",
      "\n",
      "Domain_Classifier_F     [    <=>             ]  81.30M   113MB/s    in 0.7s    \n",
      "\n",
      "2019-12-17 07:43:36 (113 MB/s) - ‘Domain_Classifier_FINAL’ saved [85253763]\n",
      "\n"
     ]
    }
   ],
   "source": [
    "!wget 'https://drive.google.com/uc?export=download&id=1BZ4IqOznm387Jda-TfkvtkN8iM6NOjAB' -O Domain_Classifier_FINAL\n",
    "domain_classifier = ClassificationNet(NUM_DOMAINS)\n",
    "domain_classifier.load_state_dict(torch.load(\"Domain_Classifier_FINAL\"))\n",
    "domain_classifier.eval()"
   ]
  },
  {
   "cell_type": "markdown",
   "metadata": {
    "colab_type": "text",
    "id": "r3cp-hh5hfMX"
   },
   "source": [
    "## 5.3 Analyzing Domain Classifer\n",
    "\n",
    "Now let's see which domains are most similar to clipart."
   ]
  },
  {
   "cell_type": "code",
   "execution_count": 0,
   "metadata": {
    "colab": {},
    "colab_type": "code",
    "id": "1fvvHRBOq6zv"
   },
   "outputs": [],
   "source": [
    "domain_classifier.eval()\n",
    "domains = [0,0,0,0,0]\n",
    "# the indices are in order of domain train file ingestion\n",
    "# 0 - infograph\n",
    "# 1 - painting\n",
    "# 2 - quickdraw\n",
    "# 3 - real\n",
    "# 4 - sketch\n",
    "\n",
    "for i, data in enumerate(clipart_test_loader):\n",
    "    inputs, labels = data\n",
    "\n",
    "    if USE_GPU:\n",
    "        # convert to GPU compatible form\n",
    "        inputs = inputs.cuda()\n",
    "        net = domain_classifier.cuda()\n",
    "        labels = labels.cuda()\n",
    "\n",
    "    outputs = domain_classifier(inputs)\n",
    "    _, predicted = torch.max(outputs.data, 1)\n",
    "    domains[predicted] += 1"
   ]
  },
  {
   "cell_type": "code",
   "execution_count": 0,
   "metadata": {
    "colab": {
     "base_uri": "https://localhost:8080/",
     "height": 419
    },
    "colab_type": "code",
    "id": "joEn3Nx8yuO7",
    "outputId": "ece2845b-fcbc-4a35-f1f4-7978c7262a83"
   },
   "outputs": [
    {
     "name": "stderr",
     "output_type": "stream",
     "text": [
      "No handles with labels found to put in legend.\n"
     ]
    },
    {
     "data": {
      "image/png": "[encoded data removed]",
      "text/plain": [
       "<Figure size 864x432 with 1 Axes>"
      ]
     },
     "metadata": {
      "tags": []
     },
     "output_type": "display_data"
    }
   ],
   "source": [
    "fig = plt.figure(figsize=(12,6))\n",
    "plt.subplots_adjust(bottom=0.2,right=0.85,top=0.95)\n",
    "ax = fig.add_subplot(1,1,1)\n",
    "\n",
    "ax.set_xlabel('domains')\n",
    "ax.set_ylabel('# classified')\n",
    "ax.set_title(\"domain classifier on clipart dataset\")\n",
    "ax.bar(x=[0,1,2,3,4], height=domains)\n",
    "ax.legend(loc='upper right')\n",
    "fig.canvas.draw()    "
   ]
  },
  {
   "cell_type": "markdown",
   "metadata": {
    "colab_type": "text",
    "id": "V8bvUK1Yj8GB"
   },
   "source": [
    "It seems like the Clipart domain is most similar to the Infograph domain although interestingly the Infograph specialized CNN defined in section 4 did not have the best classification accuracy on the Clipart test set (Painting did the best). However, Clipart seems to be least related to Quickdraw, which makes sense since the Quickdraw specialized CNN performed the worst on the Clipart test set at around 15.5% accuracy.\n",
    "\n",
    "The intuition is that since Quickart is a bad classifier, combining the Domain Classifier with the Specialized Classifiers would put 0 weight on the Quickart specialized classier, since predictions from there would probably deter the model from predicting the true Clipart class its accuracy is quite bad. Furthermore, Clipart seems to be the most similar to the Infograph domain however the specialized Infograph model predictions were not the most accurate. Instead the specialized Painting CNN was the most accurate, but the Painting domain is the second-most similar domain to Clipart. Thus the combined model would \"smooth out\" predictions by using a weighted average technique and provide more robust classifications. Let's test this out!"
   ]
  },
  {
   "cell_type": "markdown",
   "metadata": {
    "colab_type": "text",
    "id": "29X3XUQEmyo6"
   },
   "source": [
    "# 6. Final Combined Multidomain Classifier"
   ]
  },
  {
   "cell_type": "markdown",
   "metadata": {
    "colab_type": "text",
    "id": "JB6LREc_naVQ"
   },
   "source": [
    "## 6.1 Defining the model"
   ]
  },
  {
   "cell_type": "code",
   "execution_count": 0,
   "metadata": {
    "colab": {},
    "colab_type": "code",
    "id": "NsS8booDnswz"
   },
   "outputs": [],
   "source": [
    "def normalize(vector):\n",
    "    min_v = torch.min(vector)\n",
    "    range_v = torch.max(vector) - min_v\n",
    "    if range_v > 0:\n",
    "        return (vector - min_v) / range_v\n",
    "    else:\n",
    "        return torch.zeros(vector.size())\n",
    "    \n",
    "class MD_Classifier(nn.Module):\n",
    "    def __init__(self, num_classes, use_all=True, criterion=None):\n",
    "        super(MD_Classifier, self).__init__()\n",
    "        # self.conv1_1 = painting.conv1\n",
    "        self.painting = painting\n",
    "        self.quickdraw = quickdraw\n",
    "        self.real = real\n",
    "        self.sketch = sketch\n",
    "        self.infograph = infograph\n",
    "        self.domain_classifier = domain_classifier\n",
    "        self.use_all = use_all\n",
    "\n",
    "    def forward(self, inp, gts=None):\n",
    "        pred1 = normalize(self.infograph(inp))\n",
    "        pred2 = normalize(self.painting(inp))\n",
    "        pred3 = normalize(self.quickdraw(inp))\n",
    "        pred4 = normalize(self.real(inp))\n",
    "        pred5 = normalize(self.sketch(inp))\n",
    "        weights = normalize(self.domain_classifier(inp))\n",
    "\n",
    "        if self.use_all:\n",
    "            return pred1*weights[0][0] + pred2*weights[0][1] + pred3*weights[0][2] + pred4*weights[0][3] + pred5*weights[0][4]\n",
    "        else:\n",
    "            return pred2*weights[0][1] + pred4*weights[0][3] + pred5*weights[0][4]"
   ]
  },
  {
   "cell_type": "markdown",
   "metadata": {
    "colab_type": "text",
    "id": "7cppHp7PolsQ"
   },
   "source": [
    "## 6.2 Clipart Performance"
   ]
  },
  {
   "cell_type": "code",
   "execution_count": 0,
   "metadata": {
    "colab": {
     "base_uri": "https://localhost:8080/",
     "height": 34
    },
    "colab_type": "code",
    "id": "6m9fNplqorEz",
    "outputId": "11a96af1-b415-4b7a-8851-3b64bf558723"
   },
   "outputs": [
    {
     "name": "stdout",
     "output_type": "stream",
     "text": [
      "Final model clipart accuracy:  67.12734452122409\n"
     ]
    }
   ],
   "source": [
    "md = MD_Classifier(NUM_CLASSES, use_all=True)\n",
    "_, test_acc = test(clipart_test_loader, md)\n",
    "print('Final model clipart accuracy: ', test_acc)\n",
    "# md = MD_Classifier(NUM_CLASSES, use_all=False)\n",
    "# test(clipart_test_loader, md)"
   ]
  },
  {
   "cell_type": "markdown",
   "metadata": {
    "colab_type": "text",
    "id": "-fl5Tr27ozHV"
   },
   "source": [
    "The final combined model using a weighted average of the specialized CNNs (section 4) and Domain Classifier (section 5) had a accuracy of around 67%, which is about a 9% increase from the Naive BigCNN (section 3)!"
   ]
  },
  {
   "cell_type": "markdown",
   "metadata": {
    "colab_type": "text",
    "id": "UjmV7oUnqVcW"
   },
   "source": [
    "# 7. Conclusions"
   ]
  },
  {
   "cell_type": "markdown",
   "metadata": {
    "colab_type": "text",
    "id": "h69WtTpUsGxV"
   },
   "source": [
    "## 7.1 Observations\n",
    "\n",
    "Our method is a simplified but effective method of tackling the Multi-Source Domain Adaptation for Classification challenge. Since we had limited computing resources compared to the other methods in literature, we reduced the VisDa dataset to only predict on 10 classes and kept that subset consistent for all our experiments. Also, we only choose one backbone CNN model (ResNet34) compared to the other methods in the literature that experimented and bagged multiple backbone CNNs (for a single domain). Nonetheless our method of training separate, specialized CNNs based on the training domains (SRPQI) and combining them with a Domain Classifier CNN to predict using a weighted average outperformed a Naive CNN classifier by around 9% (67% accuracy vs. 58% accuracy)."
   ]
  },
  {
   "cell_type": "markdown",
   "metadata": {
    "colab_type": "text",
    "id": "q0FG4rKvtVD1"
   },
   "source": [
    "## 7.2 Strengths/Weaknesses\n",
    "\n",
    "The strength of our approach is that it by training specialized models and a general domain classifier and combining the two, we are able to make predictions that are smooth and averaged out with a balance of specialization and generalization. The result is that our model improves upon the baseline naive model by 9%. \n",
    "\n",
    "The weakness of our approach is that the final combined model has no way of \"fine-tuning\" or training it, it is sort of a \"manual\" weighted average method that combines different trained models. Thus there may be a way to make \"smarter\" decisions by incorporating another loss function for the final model and incorporating a learning algorithm with it. Also all the trained models suffered from some degree of overfitting. This may be due to the fact that the training data ratio in the 10 classes compared to testing data is relatively small. Thus the predictions in the final model may not be accurate since it is composed of overfit models originally."
   ]
  },
  {
   "cell_type": "markdown",
   "metadata": {
    "colab_type": "text",
    "id": "d6DWBDshwWL4"
   },
   "source": [
    "## 7.3 Next steps\n",
    "\n",
    "Although our approach shows promise by achieving a high accuracy against an unseen domain and beating out our benchmark, there is still a lot of work to be done to verify our results and see if it generalizes."
   ]
  },
  {
   "cell_type": "markdown",
   "metadata": {
    "colab_type": "text",
    "id": "UAf_2s5l3e0c"
   },
   "source": [
    "### 7.3.1 More Training\n",
    "\n",
    "Due to our time and compute power limits, we only trained all of our models for 10-15 epochs maximum. Ideally, we would have liked to have trained some for longer, until we are sure they have reached an minima or hit some target test accuracy. Examples that come to mind are some of the underperforming domain Resnets (infographic, painting) and BigCNN. Our experiments should be repeated with all fully trained and tuned models to verify its performance.\n"
   ]
  },
  {
   "cell_type": "markdown",
   "metadata": {
    "colab_type": "text",
    "id": "dZRfCm0f4Nqe"
   },
   "source": [
    "### 7.3.2 Combatting Overfitting\n",
    "\n",
    "All of trained models had an overfitting problem. One method to combat this is to perform more aggressive data augmentation such as random horizontal flips, slight rotations and translations, random resize crops, etc. Other methods include adding dropout and batch normalization. By adding these regularization techniques, we can then allow the models to train for longer epochs and hopefully produce more generalizable results."
   ]
  },
  {
   "cell_type": "markdown",
   "metadata": {
    "colab_type": "text",
    "id": "FxRmGsid4AKs"
   },
   "source": [
    "### 7.3.3 Different Classes\n",
    "\n",
    "For simplicity's sake, the 10 classes that we chose to work with were just the first 10 classes we saw in the train and test files. This lead to some imbalances - both in the number of samples/class, and samples/domain. For example, the training set for the infographic domain was only ~400 samples, or 40 samples/class, which may explain its poor accuracy.\n",
    "\n",
    "Ideally, our experiments should be repeated with well chosen classes, with sample sizes that are balanced within each domain, and between domains.\n"
   ]
  },
  {
   "cell_type": "markdown",
   "metadata": {
    "colab_type": "text",
    "id": "EZbx0HvV4AHH"
   },
   "source": [
    "### 7.3.4 More Classes\n",
    "\n",
    "The full DomainNet dataset contains a whopping 345 classes, and over 500k images. Due to our limits, we only used a fraction of this. More time and work can be spent on repeating our experiments with more classes - retraining all models on 15 classes, 25, 50, or even the full 345, to see how well our results can generalize."
   ]
  },
  {
   "cell_type": "markdown",
   "metadata": {
    "colab_type": "text",
    "id": "6h5nuRJZ4AD3"
   },
   "source": [
    "### 7.3.5 Different Unseen Domains\n",
    "\n",
    "In this project, we used the Clipart domain as the \"unseen\" test domain against our models. More work can be done to verify our approach on different test domains - for example, leaving out Paint as the test domain and using Clipart, Real, Infographic, Sketch, Quickdraw as the training domains. Another idea worth testing is having multiple test domains - for example, leaving out Paint AND Clipart, and only using the remaining 4 to create a model.\n",
    "\n",
    "Obviously, this would require retraining many different combos of the Domain Classifier, which will take a lot of time and power."
   ]
  }
 ],
 "metadata": {
  "accelerator": "GPU",
  "colab": {
   "name": "multidomain_classifier.ipynb",
   "provenance": [],
   "toc_visible": true
  },
  "kernelspec": {
   "display_name": "Python 3",
   "language": "python",
   "name": "python3"
  },
  "language_info": {
   "codemirror_mode": {
    "name": "ipython",
    "version": 3
   },
   "file_extension": ".py",
   "mimetype": "text/x-python",
   "name": "python",
   "nbconvert_exporter": "python",
   "pygments_lexer": "ipython3",
   "version": "3.7.4"
  }
 },
 "nbformat": 4,
 "nbformat_minor": 1
}
